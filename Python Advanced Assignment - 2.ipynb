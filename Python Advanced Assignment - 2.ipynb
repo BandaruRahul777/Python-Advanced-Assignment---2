{
 "cells": [
  {
   "cell_type": "code",
   "execution_count": null,
   "id": "3e0730e2",
   "metadata": {},
   "outputs": [],
   "source": [
    "Question 1"
   ]
  },
  {
   "cell_type": "code",
   "execution_count": null,
   "id": "ee98404a",
   "metadata": {},
   "outputs": [],
   "source": [
    "A Python class is like an outline/blueprint/mold for creating a new object. An object is anything that you wish to manipulate\n",
    "or change while working through the code. Every time a class object is instantiated, which is when we declare a variable, a\n",
    "new object is initiated from scratch\n",
    "\n",
    "Whereas in Python, Modules are simply files with the . py extension containing Python code that can be imported inside another\n",
    "Python Program. In simple terms, we can consider a module to be the same as a code library or a file that contains a set of\n",
    "functions/Classes that you want to include in your application."
   ]
  },
  {
   "cell_type": "code",
   "execution_count": null,
   "id": "8a446361",
   "metadata": {},
   "outputs": [],
   "source": [
    "Question 2"
   ]
  },
  {
   "cell_type": "code",
   "execution_count": null,
   "id": "1595a9a3",
   "metadata": {},
   "outputs": [],
   "source": [
    "For creating a class instance. we call a class by its name and pass the arguments which its __init__ method accepts.\n",
    "\n",
    "Example: vishwak = employee('Male',20000), Here vishwak is an instance of class employee with attriubutes 'Male' and 20000.\n",
    "\n",
    "Whereas for creating a class, we use the Class keyword. Class keyword is followed by classname and semicolon.\n",
    "\n",
    "Example: Here Employee is a class created with class keyword with arguments gender and salary.\n",
    "\n",
    "class Employee: def __init__(self, gender,salary): self.gender = gender self.salary = salary"
   ]
  },
  {
   "cell_type": "code",
   "execution_count": null,
   "id": "8ff6643e",
   "metadata": {},
   "outputs": [],
   "source": [
    "Question 3"
   ]
  },
  {
   "cell_type": "code",
   "execution_count": null,
   "id": "a9cbb879",
   "metadata": {},
   "outputs": [],
   "source": [
    "Class attributes or Class level Attributes belong to the class itself. these attributes will be shared by all the instances of\n",
    "the class. Hence these attributes are usually created/defined in the top of class definiation outside all methods."
   ]
  },
  {
   "cell_type": "code",
   "execution_count": null,
   "id": "8041d0e3",
   "metadata": {},
   "outputs": [],
   "source": [
    "Question 4"
   ]
  },
  {
   "cell_type": "code",
   "execution_count": null,
   "id": "4a858c03",
   "metadata": {},
   "outputs": [],
   "source": [
    "Instances attributes are passed to the class when an object of the class is created. Unlike class attributes, instance\n",
    "attributes are not shared by all objects of the classs. instead each object maintains its own copy of instance attributes at\n",
    "object level. whereas incase of class attributes all instances of class refer to a single copy. Usually instance attributes are\n",
    "defined within the __init__ method of class"
   ]
  },
  {
   "cell_type": "code",
   "execution_count": null,
   "id": "eba259ab",
   "metadata": {},
   "outputs": [],
   "source": [
    "Question 5"
   ]
  },
  {
   "cell_type": "code",
   "execution_count": null,
   "id": "f2b95306",
   "metadata": {},
   "outputs": [],
   "source": [
    "Self represents the instance of the class (it represents the object itself). By using the “self” keyword we can access the\n",
    "attributes and methods of the class with in the class in python. It binds the attributes with the given arguments."
   ]
  },
  {
   "cell_type": "code",
   "execution_count": 1,
   "id": "05907433",
   "metadata": {},
   "outputs": [
    {
     "name": "stdout",
     "output_type": "stream",
     "text": [
      "{'color': 'Indigo Blue', 'price': 1400000, 'engine': 'electric'}\n",
      "{'color': 'Pearl White', 'price': 2100000, 'engine': 'petrol'}\n"
     ]
    }
   ],
   "source": [
    "class Car:\n",
    "    def __init__(self,color,price,engine):\n",
    "        self.color = color # All this are instance attributes\n",
    "        self.price = price\n",
    "        self.engine = engine\n",
    "\n",
    "nexon_ev = Car('Indigo Blue', 1400000, 'electric')\n",
    "safari = Car('Pearl White',2100000, 'petrol')\n",
    "\n",
    "print(nexon_ev.__dict__)\n",
    "print(safari.__dict__)"
   ]
  },
  {
   "cell_type": "code",
   "execution_count": null,
   "id": "f55492b8",
   "metadata": {},
   "outputs": [],
   "source": [
    "Question 6"
   ]
  },
  {
   "cell_type": "code",
   "execution_count": null,
   "id": "3d5577b2",
   "metadata": {},
   "outputs": [],
   "source": [
    "Python Classes handle operator overloading by using special methods called Magic methods. these special methods usually begin\n",
    "and end with __ (double underscore)"
   ]
  },
  {
   "cell_type": "code",
   "execution_count": null,
   "id": "fd575509",
   "metadata": {},
   "outputs": [],
   "source": [
    "Question 7"
   ]
  },
  {
   "cell_type": "code",
   "execution_count": null,
   "id": "ef17db7b",
   "metadata": {},
   "outputs": [],
   "source": [
    "When we want to have different meaning for the same operator accroding to the context we use operator overloading."
   ]
  },
  {
   "cell_type": "code",
   "execution_count": null,
   "id": "c2805f0c",
   "metadata": {},
   "outputs": [],
   "source": [
    "Question 8"
   ]
  },
  {
   "cell_type": "code",
   "execution_count": null,
   "id": "861929e2",
   "metadata": {},
   "outputs": [],
   "source": [
    "The most popular form of operator overloading in python is by special methods called Magic methods. Which usually beign and end\n",
    "with double underscore __<method name>__."
   ]
  },
  {
   "cell_type": "code",
   "execution_count": null,
   "id": "35b0e263",
   "metadata": {},
   "outputs": [],
   "source": [
    "Question 9"
   ]
  },
  {
   "cell_type": "code",
   "execution_count": null,
   "id": "d45bedfc",
   "metadata": {},
   "outputs": [],
   "source": [
    "Classes and objects are the two concepts to comprehend python OOP code as more formally objects are entities that represent instances of general abstract concept called class\n",
    "\n",
    "Along with classes and objects the important concepts to grasp are:\n",
    "\n",
    "Inheritence\n",
    "Abstraction\n",
    "Polymorphism\n",
    "Encapsulation"
   ]
  }
 ],
 "metadata": {
  "kernelspec": {
   "display_name": "Python 3 (ipykernel)",
   "language": "python",
   "name": "python3"
  },
  "language_info": {
   "codemirror_mode": {
    "name": "ipython",
    "version": 3
   },
   "file_extension": ".py",
   "mimetype": "text/x-python",
   "name": "python",
   "nbconvert_exporter": "python",
   "pygments_lexer": "ipython3",
   "version": "3.9.7"
  }
 },
 "nbformat": 4,
 "nbformat_minor": 5
}
